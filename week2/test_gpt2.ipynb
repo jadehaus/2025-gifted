{
 "cells": [
  {
   "cell_type": "markdown",
   "metadata": {},
   "source": [
    "# GPT-2 모델 사용해보기"
   ]
  },
  {
   "cell_type": "code",
   "execution_count": null,
   "metadata": {},
   "outputs": [],
   "source": [
    "# 코드 한번에 보기\n",
    "from transformers import pipeline\n",
    "\n",
    "huggingface_model_name = \"skt/kogpt2-base-v2\"\n",
    "pipe = pipeline(\"text-generation\", model=huggingface_model_name)\n",
    "pipe('근육이 커지기 위해서는', max_new_tokens=50)"
   ]
  },
  {
   "cell_type": "markdown",
   "metadata": {},
   "source": [
    "### 생성 코드 더 자세히 살펴보기"
   ]
  },
  {
   "cell_type": "code",
   "execution_count": null,
   "metadata": {},
   "outputs": [],
   "source": [
    "from transformers import AutoModelForCausalLM, AutoTokenizer\n",
    "\n",
    "huggingface_model_name = \"gpt2\"\n",
    "tokenizer = AutoTokenizer.from_pretrained(huggingface_model_name)\n",
    "model = AutoModelForCausalLM.from_pretrained(huggingface_model_name)\n",
    "\n",
    "input_text = \"The\"\n",
    "encoded_input = tokenizer(input_text, return_tensors=\"pt\")\n",
    "output = model.generate(**encoded_input, max_new_tokens=50)\n",
    "response = tokenizer.decode(output[0], skip_special_tokens=True)\n",
    "print(response)"
   ]
  },
  {
   "cell_type": "markdown",
   "metadata": {},
   "source": [
    "### 프롬프트 엔지니어링 체험해보기\n",
    "\n",
    "Can you make GPT-2 to summarize or translate?"
   ]
  },
  {
   "cell_type": "code",
   "execution_count": null,
   "metadata": {},
   "outputs": [],
   "source": [
    "prompt = \"Translate the following English text to French: 'Hello, how are you?'\"\n",
    "encoded_input = tokenizer(prompt, return_tensors=\"pt\")\n",
    "output = model.generate(**encoded_input, max_new_tokens=50)\n",
    "response = tokenizer.decode(output[0], skip_special_tokens=True)\n",
    "print(response)"
   ]
  }
 ],
 "metadata": {
  "kernelspec": {
   "display_name": "hdm",
   "language": "python",
   "name": "python3"
  },
  "language_info": {
   "codemirror_mode": {
    "name": "ipython",
    "version": 3
   },
   "file_extension": ".py",
   "mimetype": "text/x-python",
   "name": "python",
   "nbconvert_exporter": "python",
   "pygments_lexer": "ipython3",
   "version": "3.9.7"
  }
 },
 "nbformat": 4,
 "nbformat_minor": 2
}
