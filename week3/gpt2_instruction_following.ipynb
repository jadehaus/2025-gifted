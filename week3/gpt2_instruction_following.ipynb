{
 "cells": [
  {
   "cell_type": "markdown",
   "metadata": {},
   "source": [
    "# 프롬프트 엔지니어링의 이해"
   ]
  },
  {
   "cell_type": "markdown",
   "metadata": {},
   "source": [
    "### 지난 시간 복습\n",
    "\n",
    "지난 시간에 우리는 초창기 언어 모델을 체험해 봤습니다. 초기 언어 모델은, 인터넷에 있는 수많은 텍스트를 학습해서, 문맥상 다음에 등장할 가장 적절한 단어(토큰)를 순차적으로 생성해 나간다는 사실을 배웠습니다. 그런데, 직접 사용해 보려고 하니 약간의 문제가 보입니다.\n",
    "\n",
    "1. 우리가 시키는 일을 잘 수행하지 않습니다. 내 질문을 무시하고, 하고싶은 말만 합니다.\n",
    "2. 문장이 자연스럽기만 합니다. 그 이상 의미있는 역할을 수행하지 못합니다."
   ]
  },
  {
   "cell_type": "markdown",
   "metadata": {},
   "source": [
    "### 사용자의 지시를 이해하도록 만들어보기"
   ]
  },
  {
   "cell_type": "markdown",
   "metadata": {},
   "source": []
  }
 ],
 "metadata": {
  "language_info": {
   "name": "python"
  }
 },
 "nbformat": 4,
 "nbformat_minor": 2
}
